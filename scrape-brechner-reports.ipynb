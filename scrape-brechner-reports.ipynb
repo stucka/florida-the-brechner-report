{
 "cells": [
  {
   "cell_type": "code",
   "execution_count": 34,
   "metadata": {},
   "outputs": [],
   "source": [
    "import requests\n",
    "from pyquery import PyQuery as pq\n",
    "from tqdm import tqdm\n",
    "\n",
    "import datetime\n",
    "import os"
   ]
  },
  {
   "cell_type": "code",
   "execution_count": 32,
   "metadata": {},
   "outputs": [],
   "source": [
    "startpage = \"https://brechner.org/resources/brechner-report/\"\n",
    "recentpage = \"https://us9.campaign-archive.com/home/?u=e2bfc368fca7a023b36d90db8&id=91f7a1708d\"\n",
    "rawdir = \"archives/\"\n",
    "filepre = \"Brechner_\"\n",
    "filepost = \".html\"\n",
    "\n",
    "for localdir in [rawdir]:\n",
    "    os.makedirs(localdir, exist_ok=True)"
   ]
  },
  {
   "cell_type": "code",
   "execution_count": 7,
   "metadata": {},
   "outputs": [],
   "source": [
    "r = requests.get(startpage)"
   ]
  },
  {
   "cell_type": "code",
   "execution_count": 18,
   "metadata": {},
   "outputs": [],
   "source": [
    "html = r.text\n",
    "oldblock = html.split(\"<h2>By Year</h2>\")[1].strip().split(\"</div>\")[0]"
   ]
  },
  {
   "cell_type": "code",
   "execution_count": 19,
   "metadata": {},
   "outputs": [],
   "source": [
    "yeargroups = oldblock.split(\"<h3>\")"
   ]
  },
  {
   "cell_type": "code",
   "execution_count": 44,
   "metadata": {},
   "outputs": [],
   "source": [
    "allurls = []"
   ]
  },
  {
   "cell_type": "code",
   "execution_count": 45,
   "metadata": {},
   "outputs": [
    {
     "name": "stderr",
     "output_type": "stream",
     "text": [
      "100%|█████████████████████████████████████████████████████████████████████████████████| 26/26 [00:00<00:00, 402.13it/s]\n"
     ]
    }
   ],
   "source": [
    "for yeargroup in tqdm(yeargroups):\n",
    "    if yeargroup:\n",
    "        myyear = yeargroup.split(\"</h3>\")[0]\n",
    "        for aholder in pq(yeargroup)(\"a\"):\n",
    "            remoteurl = pq(aholder)(\"a\").attr(\"href\")\n",
    "            allurls.append(remoteurl)\n",
    "            monthname = pq(aholder)(\"a\").text().split(\"/\")[0]    # Fix for \"June/July 2016\"\n",
    "            if \"Annual\" not in monthname:\n",
    "                realdate = datetime.datetime.strptime(f\"{monthname} {myyear}\", \"%B %Y\")\n",
    "                mydate = realdate.strftime(\"%Y-%m-%d\")\n",
    "                targetfilename = rawdir + filepre + mydate + filepost\n",
    "                if not os.path.exists(targetfilename):\n",
    "                    r = requests.get(remoteurl)\n",
    "                    if r.status_code != 200:\n",
    "                        print(f\"Error downloading file for {mydate} from {remoteurl}\")\n",
    "                    else:\n",
    "                        with open(targetfilename, \"wb\") as outfile:\n",
    "                            outfile.write(r.content)"
   ]
  },
  {
   "cell_type": "code",
   "execution_count": 37,
   "metadata": {},
   "outputs": [],
   "source": [
    "r = requests.get(recentpage)\n",
    "html = r.text"
   ]
  },
  {
   "cell_type": "code",
   "execution_count": 38,
   "metadata": {},
   "outputs": [],
   "source": [
    "archivelist = pq(html)(\"ul#archive-list\")"
   ]
  },
  {
   "cell_type": "code",
   "execution_count": 46,
   "metadata": {},
   "outputs": [
    {
     "name": "stderr",
     "output_type": "stream",
     "text": [
      "100%|████████████████████████████████████████████████████████████████████████████████| 20/20 [00:00<00:00, 4011.19it/s]\n"
     ]
    }
   ],
   "source": [
    "for entry in tqdm(pq(archivelist)(\"li\")):\n",
    "    rawdate = pq(entry)(\"li\").text().strip().split()[0]\n",
    "    gooddate = datetime.datetime.strptime(rawdate, \"%m/%d/%Y\")\n",
    "    mydate = gooddate.strftime(\"%Y-%m-%d\")\n",
    "    targetfilename = rawdir + filepre + mydate + filepost\n",
    "    remoteurl = pq(entry)(\"a\").attr(\"href\")\n",
    "    allurls.append(remoteurl)\n",
    "    if not os.path.exists(targetfilename):\n",
    "        r = requests.get(remoteurl)\n",
    "        if r.status_code != 200:\n",
    "            print(f\"Error downloading file for {mydate} from {remoteurl}\")\n",
    "        else:\n",
    "            with open(targetfilename, \"wb\") as outfile:\n",
    "                outfile.write(r.content)    "
   ]
  },
  {
   "cell_type": "raw",
   "metadata": {},
   "source": [
    "for remoteurl in tqdm(allurls):\n",
    "    try:\n",
    "        r = requests.get(\"https://web.archive.org/save/\" + remoteurl, timeout=3)\n",
    "    except:\n",
    "        pass"
   ]
  },
  {
   "cell_type": "code",
   "execution_count": null,
   "metadata": {},
   "outputs": [],
   "source": []
  }
 ],
 "metadata": {
  "kernelspec": {
   "display_name": "Python 3",
   "language": "python",
   "name": "python3"
  },
  "language_info": {
   "codemirror_mode": {
    "name": "ipython",
    "version": 3
   },
   "file_extension": ".py",
   "mimetype": "text/x-python",
   "name": "python",
   "nbconvert_exporter": "python",
   "pygments_lexer": "ipython3",
   "version": "3.7.2"
  }
 },
 "nbformat": 4,
 "nbformat_minor": 4
}
